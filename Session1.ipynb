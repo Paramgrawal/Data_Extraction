{
  "nbformat": 4,
  "nbformat_minor": 0,
  "metadata": {
    "colab": {
      "provenance": []
    },
    "kernelspec": {
      "name": "python3",
      "display_name": "Python 3"
    },
    "language_info": {
      "name": "python"
    }
  },
  "cells": [
    {
      "cell_type": "code",
      "execution_count": null,
      "metadata": {
        "id": "8JFQhPxwnl8w"
      },
      "outputs": [],
      "source": [
        "name=\"Param\"\n",
        "f=open(f\"{name}.txt\",\"w+\")\n",
        "f.write(f\"My name is {name}\")\n",
        "\n",
        "f.close()\n"
      ]
    },
    {
      "cell_type": "code",
      "source": [
        "f=open(\"sample-txt-file.txt\",\"w+\")\n",
        "\n",
        "for i in range(10):\n",
        "  f.write(\"this is line %d\\r\\n\"% (i+1))\n",
        "f.close()\n"
      ],
      "metadata": {
        "id": "sytV8s0uofxd"
      },
      "execution_count": null,
      "outputs": []
    },
    {
      "cell_type": "code",
      "source": [
        "f=open(\"sample-txt-file.txt\",\"r\")\n",
        "\n",
        "if f.mode =='r':\n",
        "  contents=f.read()\n",
        "  #prints(contents)\n",
        "\n",
        "f.close()\n",
        "print(contents)\n",
        "\n",
        "print('Hello world')"
      ],
      "metadata": {
        "colab": {
          "base_uri": "https://localhost:8080/"
        },
        "id": "tVgGAMmrqo4m",
        "outputId": "e835dfd4-d1b4-4b6c-b826-7ad49e921bbe"
      },
      "execution_count": null,
      "outputs": [
        {
          "output_type": "stream",
          "name": "stdout",
          "text": [
            "this is line 1\n",
            "this is line 2\n",
            "this is line 3\n",
            "this is line 4\n",
            "this is line 5\n",
            "this is line 6\n",
            "this is line 7\n",
            "this is line 8\n",
            "this is line 9\n",
            "this is line 10\n",
            "\n",
            "Hello world\n"
          ]
        }
      ]
    },
    {
      "cell_type": "code",
      "source": [
        "try:\n",
        "  f=open(\"sample-text-file.txt\",\"r+\")\n",
        "  #f.write(\"My name is Param\")\n",
        "except Exception as e:\n",
        "  print(e)\n",
        "else:\n",
        "  print(\"File created successfully\")\n",
        "\n",
        "print(\"Hello world\")"
      ],
      "metadata": {
        "colab": {
          "base_uri": "https://localhost:8080/"
        },
        "id": "-uhNuRo6tZHU",
        "outputId": "406ec28a-d9e2-45b2-c4b9-c53c40623d6c"
      },
      "execution_count": null,
      "outputs": [
        {
          "output_type": "stream",
          "name": "stdout",
          "text": [
            "[Errno 2] No such file or directory: 'sample-text-file.txt'\n",
            "Hello world\n"
          ]
        }
      ]
    },
    {
      "cell_type": "code",
      "source": [
        "import pandas as pd\n",
        "\n",
        "file=\"Param.xlsx\"\n",
        "\n",
        "x1=pd.ExcelFile(file)\n",
        "print(x1.sheet_names)\n",
        "\n",
        "df1=x1.parse('x2')\n",
        "\n",
        "print(df1)\n",
        "\n",
        "df2=x1.parse('x2')\n",
        "\n",
        "print(df2)"
      ],
      "metadata": {
        "colab": {
          "base_uri": "https://localhost:8080/"
        },
        "id": "8aIE6fMuvGC3",
        "outputId": "18524b0b-7844-4446-aa9c-e0e2ada164d0"
      },
      "execution_count": null,
      "outputs": [
        {
          "output_type": "stream",
          "name": "stdout",
          "text": [
            "['Sheet1', 'x2']\n",
            "  Param    1     eh\n",
            "0   gfxc   2    rge\n",
            "1     cv   3    rge\n",
            "2  cvdvc  45  trgdb\n",
            "  Param    1     eh\n",
            "0   gfxc   2    rge\n",
            "1     cv   3    rge\n",
            "2  cvdvc  45  trgdb\n"
          ]
        }
      ]
    },
    {
      "cell_type": "code",
      "source": [
        "import pandas as pd\n",
        "import openpyxl\n",
        "\n",
        "df = pd.DataFrame([[11,21,31],[12,22,32],[31,32,33]],\n",
        "                  index=['one','two','three'], columns=['a','b','c'])\n",
        "print(df)\n",
        "\n",
        "df.to_excel(\"rawal.xlsx\")"
      ],
      "metadata": {
        "colab": {
          "base_uri": "https://localhost:8080/"
        },
        "id": "PmJLT44IzPCo",
        "outputId": "7c907084-d4c7-4e58-84f2-62c92113ab6c"
      },
      "execution_count": null,
      "outputs": [
        {
          "output_type": "stream",
          "name": "stdout",
          "text": [
            "        a   b   c\n",
            "one    11  21  31\n",
            "two    12  22  32\n",
            "three  31  32  33\n"
          ]
        }
      ]
    },
    {
      "cell_type": "code",
      "source": [
        "import pandas as pd\n",
        "import openpyxl\n",
        "\n",
        "df = pd.DataFrame([[11,21,31],[12,22,32],[31,32,33]])\n",
        "print(df)\n",
        "\n",
        "df.to_csv(\"rawal1.csv\")\n",
        "\n",
        "df.to_csv(\"rawal1.csv\",index=False,header=False)"
      ],
      "metadata": {
        "colab": {
          "base_uri": "https://localhost:8080/"
        },
        "id": "IoPngGH43LOW",
        "outputId": "e3b4d334-f15f-44c5-c904-f9474a07a612"
      },
      "execution_count": null,
      "outputs": [
        {
          "output_type": "stream",
          "name": "stdout",
          "text": [
            "    0   1   2\n",
            "0  11  21  31\n",
            "1  12  22  32\n",
            "2  31  32  33\n"
          ]
        }
      ]
    },
    {
      "cell_type": "code",
      "source": [
        "# Import Pandas Library\n",
        "import pandas as pd\n",
        "# Creating a Dataframe\n",
        "df = pd. DataFrame([[11, 21, 31], [12, 22, 32], [31, 32, 33]])\n",
        "# Printing the values of the dataframe\n",
        "print(df)\n",
        "# Writing contents of dataframe 'df' to the CSV by creating a new CSV file.\n",
        "df.to_csv('new-file.csv')\n",
        "# If we do not want to keep the index, and columns\n",
        "df.to_csv('new-file-without.csv', index=False,header=False)"
      ],
      "metadata": {
        "colab": {
          "base_uri": "https://localhost:8080/"
        },
        "id": "WGNu1ftY5mwp",
        "outputId": "1bb3ee9e-997f-49a2-a325-c493431ddfeb"
      },
      "execution_count": null,
      "outputs": [
        {
          "output_type": "stream",
          "name": "stdout",
          "text": [
            "    0   1   2\n",
            "0  11  21  31\n",
            "1  12  22  32\n",
            "2  31  32  33\n"
          ]
        }
      ]
    },
    {
      "cell_type": "code",
      "source": [
        "pip install xlsxwriter"
      ],
      "metadata": {
        "colab": {
          "base_uri": "https://localhost:8080/"
        },
        "id": "LcWFpa146B5R",
        "outputId": "699e1c56-153e-44a9-894f-6eb76d15a12b"
      },
      "execution_count": null,
      "outputs": [
        {
          "output_type": "stream",
          "name": "stdout",
          "text": [
            "Requirement already satisfied: xlsxwriter in /usr/local/lib/python3.10/dist-packages (3.2.0)\n"
          ]
        }
      ]
    },
    {
      "cell_type": "code",
      "source": [
        "# import xlsxwriter library\n",
        "import xlsxwriter\n",
        "# which is the filename that we want to create.\n",
        "workbook = xlsxwriter.Workbook('hello.xlsx')\n",
        "# The workbook object is then used to add new worksheet via the add_worksheet() method.\n",
        "worksheet = workbook.add_worksheet()\n",
        "# Use the worksheet object to write data via the write() method.\n",
        "worksheet.write('A1', 'S.No')\n",
        "worksheet.write('B1', 'Name of the Student')\n",
        "worksheet.write('C1', 'SAP ID')\n",
        "worksheet.write('D1', 'Email ID')\n",
        "# Finally, close the Excel file via the close() method.\n",
        "workbook.close# import xlsxwriter library\n",
        "import xlsxwriter\n",
        "# which is the filename that we want to create.\n",
        "workbook = xlsxwriter.Workbook('hello.xlsx')\n",
        "# The workbook object is then used to add new worksheet via the add_worksheet() method.\n",
        "worksheet = workbook.add_worksheet()\n",
        "# Use the worksheet object to write data via the write() method.\n",
        "worksheet.write('A1', 'S.No')\n",
        "worksheet.write('B1', 'Name of the Student')\n",
        "worksheet.write('C1', 'SAP ID')\n",
        "worksheet.write('D1', 'Email ID')\n",
        "# Finally, close the Excel file via the close() method.\n",
        "workbook.close"
      ],
      "metadata": {
        "colab": {
          "base_uri": "https://localhost:8080/",
          "height": 186
        },
        "id": "6V5wam2z56KQ",
        "outputId": "a3c036ec-cfcc-4e28-d6b4-e8ed0a657adf"
      },
      "execution_count": null,
      "outputs": [
        {
          "output_type": "execute_result",
          "data": {
            "text/plain": [
              "<bound method Workbook.close of <xlsxwriter.workbook.Workbook object at 0x79b40f38e0b0>>"
            ],
            "text/html": [
              "<div style=\"max-width:800px; border: 1px solid var(--colab-border-color);\"><style>\n",
              "      pre.function-repr-contents {\n",
              "        overflow-x: auto;\n",
              "        padding: 8px 12px;\n",
              "        max-height: 500px;\n",
              "      }\n",
              "\n",
              "      pre.function-repr-contents.function-repr-contents-collapsed {\n",
              "        cursor: pointer;\n",
              "        max-height: 100px;\n",
              "      }\n",
              "    </style>\n",
              "    <pre style=\"white-space: initial; background:\n",
              "         var(--colab-secondary-surface-color); padding: 8px 12px;\n",
              "         border-bottom: 1px solid var(--colab-border-color);\"><b>xlsxwriter.workbook.Workbook.close</b><br/>def close()</pre><pre class=\"function-repr-contents function-repr-contents-collapsed\" style=\"\"><a class=\"filepath\" style=\"display:none\" href=\"#\">/usr/local/lib/python3.10/dist-packages/xlsxwriter/workbook.py</a>Call finalization code and close file.\n",
              "\n",
              "Args:\n",
              "    None.\n",
              "\n",
              "Returns:\n",
              "    Nothing.</pre>\n",
              "      <script>\n",
              "      if (google.colab.kernel.accessAllowed && google.colab.files && google.colab.files.view) {\n",
              "        for (const element of document.querySelectorAll('.filepath')) {\n",
              "          element.style.display = 'block'\n",
              "          element.onclick = (event) => {\n",
              "            event.preventDefault();\n",
              "            event.stopPropagation();\n",
              "            google.colab.files.view(element.textContent, 339);\n",
              "          };\n",
              "        }\n",
              "      }\n",
              "      for (const element of document.querySelectorAll('.function-repr-contents')) {\n",
              "        element.onclick = (event) => {\n",
              "          event.preventDefault();\n",
              "          event.stopPropagation();\n",
              "          element.classList.toggle('function-repr-contents-collapsed');\n",
              "        };\n",
              "      }\n",
              "      </script>\n",
              "      </div>"
            ]
          },
          "metadata": {},
          "execution_count": 45
        }
      ]
    },
    {
      "cell_type": "code",
      "source": [
        "# import openpyxi module\n",
        "import openpyxl\n",
        "# Give the location of the file such as \"C:||Users|\\Admin|\\Desktop|\\hello.xlsx\"\n",
        "path = \"hello.xlsx\"\n",
        "# To open the workbook, one workbook object is created\n",
        "wb_obj = openpyxl.load_workbook(path)\n",
        "# Get workbook active sheet object from the active attribute\n",
        "sheet_obj = wb_obj.active\n",
        "# Cell objects also have a row, column, and coordinate attributes that provide\n",
        "# location information for the cell.\n",
        "# Note: The first row or # column integer is 1, not e.\n",
        "# Cell object is created by using sheet object's cell) method.\n",
        "cell_obj = sheet_obj.cell(row = 1, column = 1)\n",
        "# Print value of cell object using the value attribute\n",
        "print(cell_obj.value)"
      ],
      "metadata": {
        "colab": {
          "base_uri": "https://localhost:8080/"
        },
        "id": "MrvLxVcH7V-k",
        "outputId": "74defbef-b45a-4999-8db2-6b7bacdb22f4"
      },
      "execution_count": null,
      "outputs": [
        {
          "output_type": "stream",
          "name": "stdout",
          "text": [
            "1\n"
          ]
        }
      ]
    }
  ]
}